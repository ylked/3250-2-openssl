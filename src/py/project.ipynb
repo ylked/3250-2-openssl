{
 "cells": [
  {
   "cell_type": "markdown",
   "id": "ed7325a26c53a310",
   "metadata": {
    "collapsed": false,
    "editable": true,
    "jupyter": {
     "outputs_hidden": false
    },
    "slideshow": {
     "slide_type": "slide"
    },
    "tags": []
   },
   "source": [
    "# Cryptography - OpenSSL mini-project\n",
    "\n",
    "Nima Dekhli \n",
    "25 January 2024"
   ]
  },
  {
   "cell_type": "markdown",
   "id": "9ee9f72d-9f8c-4db2-a6a7-59ebc7074de2",
   "metadata": {
    "editable": true,
    "slideshow": {
     "slide_type": "subslide"
    },
    "tags": []
   },
   "source": [
    "## Constraints\n",
    "\n",
    "- asymmetric algorithm : RSA\n",
    "- symmetric algorithm : AES, mode OFB \n",
    "- signature : DSA \n",
    "- hash : SHA-512 "
   ]
  },
  {
   "cell_type": "code",
   "execution_count": 7,
   "id": "2ffe0b7a6d247047",
   "metadata": {
    "ExecuteTime": {
     "end_time": "2024-01-24T22:22:38.279618Z",
     "start_time": "2024-01-24T22:22:38.156147Z"
    },
    "collapsed": false,
    "editable": true,
    "jupyter": {
     "outputs_hidden": false
    },
    "slideshow": {
     "slide_type": "slide"
    },
    "tags": []
   },
   "outputs": [],
   "source": [
    "import os\n",
    "\n",
    "from cryptography.hazmat.primitives import serialization, hashes\n",
    "from cryptography.hazmat.primitives.asymmetric import rsa, padding, utils\n",
    "from cryptography.hazmat.primitives.ciphers import Cipher, algorithms, modes"
   ]
  },
  {
   "cell_type": "code",
   "execution_count": 8,
   "id": "initial_id",
   "metadata": {
    "ExecuteTime": {
     "end_time": "2024-01-24T22:22:38.334772Z",
     "start_time": "2024-01-24T22:22:38.302532Z"
    },
    "editable": true,
    "slideshow": {
     "slide_type": "subslide"
    },
    "tags": []
   },
   "outputs": [],
   "source": [
    "class Person:\n",
    "    RSA_KEY_SIZE = 2048\n",
    "    RSA_KEY_EXPONENT = 65537\n",
    "    HASH_ALGORITHM = hashes.SHA512()\n",
    "    AES_KEY_SIZE_BITS = 256\n",
    "\n",
    "    def __init__(self, name):\n",
    "        \"\"\"\n",
    "        Creates a new person and generates their RSA key pair\n",
    "        :param name: the name of the person\n",
    "        \"\"\"\n",
    "        self.name = name\n",
    "        self.key = self._generate_rsa_key_pair()\n",
    "        self.public_keys_directory: dict[str, rsa.RSAPublicKey] = {}\n",
    "\n",
    "        self.aes_key = None\n",
    "\n",
    "    @classmethod\n",
    "    def _generate_rsa_key_pair(cls):\n",
    "        \"\"\"\n",
    "        Generates a new RSA key pair\n",
    "        :return rsa.RSAPublicKey: The generated private key\n",
    "        \"\"\"\n",
    "        return rsa.generate_private_key(cls.RSA_KEY_EXPONENT, cls.RSA_KEY_SIZE)\n",
    "\n",
    "    def import_public_key(self, name, public_key, force=False):\n",
    "        \"\"\"\n",
    "        Imports a public key in the directory\n",
    "        :param str name: The name of the owner of the public key\n",
    "        :param rsa.RSAPublicKey public_key: The public key to import\n",
    "        :param bool force: True to overwrite an existing key\n",
    "        :return None:\n",
    "        \"\"\"\n",
    "        if name in self.public_keys_directory and not force:\n",
    "            raise Exception(\"Error: a public key with this name \"\n",
    "                            \"is already imported. Use force=True to overwrite it\")\n",
    "\n",
    "        if name in self.public_keys_directory and force:\n",
    "            print(\"Warning: overwriting existing public key\")\n",
    "\n",
    "        self.public_keys_directory[name] = public_key\n",
    "\n",
    "    def get_public_key(self):\n",
    "        \"\"\"\n",
    "        Returns the public key of the person\n",
    "        :return rsa.RSAPublicKey: The public key\n",
    "        \"\"\"\n",
    "        return self.key.public_key()\n",
    "\n",
    "    def generate_new_aes_key(self):\n",
    "        \"\"\"\n",
    "        Generates a new random AES key\n",
    "        :return bytes: The generated AES key\n",
    "        \"\"\"\n",
    "        self.aes_key = os.urandom(self.AES_KEY_SIZE_BITS // 8)\n",
    "\n",
    "    @classmethod\n",
    "    def get_random_iv(cls):\n",
    "        \"\"\"\n",
    "        Generates a new random initialization vector\n",
    "        :return bytes: The generated IV\n",
    "        \"\"\"\n",
    "        return os.urandom(16)\n",
    "\n",
    "    def import_aes_key(self, key, force=False):\n",
    "        \"\"\"\n",
    "        Imports an AES key\n",
    "        :param force: True to overwrite an existing key\n",
    "        :param bytes key: The AES key to import\n",
    "        :return None:\n",
    "        \"\"\"\n",
    "        if self.aes_key is not None and force:\n",
    "            print(\"Warning: overwriting existing AES key\")\n",
    "\n",
    "        elif self.aes_key is not None and not force:\n",
    "            raise Exception(\"Error: an AES key is already imported. Use force=True to overwrite it\")\n",
    "\n",
    "        self.aes_key = key\n",
    "\n",
    "    def aes_encrypt(self, message):\n",
    "        \"\"\"\n",
    "        Encrypts the given data with the existing AES key\n",
    "        :param bytes|str message: The data to encrypt\n",
    "        :return tuple[bytes, bytes]: The encrypted data and the initialization vector\n",
    "        \"\"\"\n",
    "        assert self.aes_key is not None, \"You must generate or import an AES key first\"\n",
    "\n",
    "        if type(message) is str:\n",
    "            message = message.encode('utf-8')\n",
    "\n",
    "        iv_ = self.get_random_iv()\n",
    "        cipher = Cipher(algorithms.AES256(self.aes_key), modes.OFB(iv_))\n",
    "        encryptor = cipher.encryptor()\n",
    "\n",
    "        return encryptor.update(message) + encryptor.finalize(), iv_\n",
    "\n",
    "    def aes_decrypt(self, message, iv):\n",
    "        \"\"\"\n",
    "        Decrypts the given data with the existing AES key and given initialization vector\n",
    "        :param bytes message: The data to decrypt\n",
    "        :param bytes iv: The initialization vector to use\n",
    "        :return bytes: The decrypted data\n",
    "        \"\"\"\n",
    "        assert self.aes_key is not None, \"You must generate an AES key first\"\n",
    "\n",
    "        cipher = Cipher(algorithms.AES256(self.aes_key), modes.OFB(iv))\n",
    "        decryptor = cipher.decryptor()\n",
    "\n",
    "        return decryptor.update(message) + decryptor.finalize()\n",
    "\n",
    "    def get_aes_key(self):\n",
    "        \"\"\"\n",
    "        Returns the AES key\n",
    "        :return bytes: The AES key\n",
    "        \"\"\"\n",
    "        assert self.aes_key is not None, \"You must generate an AES key first\"\n",
    "        return self.aes_key\n",
    "\n",
    "    def sign(self, message=None, hash=None):\n",
    "        \"\"\"\n",
    "        Signs the given data\n",
    "        :param bytes message: The data to sign\n",
    "        :return bytes: The signature\n",
    "        \"\"\"\n",
    "\n",
    "        assert message is not None or hash is not None, \\\n",
    "            \"You must specify either the message or the hash of the message\"\n",
    "\n",
    "        if hash is None:\n",
    "            hash = hashes.Hash(self.HASH_ALGORITHM)\n",
    "            hash.update(message)\n",
    "            hash = hash.finalize()\n",
    "\n",
    "        return self.key.sign(\n",
    "            hash,\n",
    "            padding.PSS(\n",
    "                mgf=padding.MGF1(self.HASH_ALGORITHM),\n",
    "                salt_length=padding.PSS.MAX_LENGTH\n",
    "            ),\n",
    "            utils.Prehashed(self.HASH_ALGORITHM)\n",
    "        )\n",
    "\n",
    "    def verify(self, signature, message=None, hash=None, name=None, public_key=None):\n",
    "        \"\"\"\n",
    "        Verify the given signature for the given message.\n",
    "        You can either give the message or the hash of the message, but not both.\n",
    "        You can either give the name of the sender or their public key, but not both.\n",
    "        If you give their name, the public key must have been imported before.\n",
    "\n",
    "        :param bytes signature: The signature to verify\n",
    "        :param bytes message: The message to verify\n",
    "        :param bytes hash: The hash of the message to verify\n",
    "        :param str name: The name of the sender\n",
    "        :param public_key: The public key of the sender\n",
    "        :return: True if the signature is valid, False if not\n",
    "        \"\"\"\n",
    "        assert message is not None or hash is not None, \\\n",
    "            \"You must specify either the message or the hash of the message\"\n",
    "\n",
    "        assert message is None or hash is None, \\\n",
    "            \"You must specify either the message or the hash of the message, not both\"\n",
    "\n",
    "        assert public_key is not None or name is not None, \\\n",
    "            \"You must specify either the public key or the name of the sender\"\n",
    "\n",
    "        assert public_key is None or name is None, \\\n",
    "            \"You must specify either the public key or the name of the sender, not both\"\n",
    "\n",
    "        # if the hash is not given, we compute it\n",
    "        if hash is None:\n",
    "            hash = hashes.Hash(self.HASH_ALGORITHM)\n",
    "            hash.update(message)\n",
    "            hash = hash.finalize()\n",
    "\n",
    "        # if the public key is not given, we get it from the directory\n",
    "        if name is not None:\n",
    "            assert name in self.public_keys_directory, \\\n",
    "                \"The name of the sender is not in the directory\"\n",
    "            public_key = self.public_keys_directory[name]\n",
    "\n",
    "        # we verify the signature\n",
    "        try:\n",
    "            public_key.verify(\n",
    "                signature,\n",
    "                hash,\n",
    "                padding.PSS(\n",
    "                    mgf=padding.MGF1(self.HASH_ALGORITHM),\n",
    "                    salt_length=padding.PSS.MAX_LENGTH\n",
    "                ),\n",
    "                utils.Prehashed(self.HASH_ALGORITHM)\n",
    "            )\n",
    "            # signature verification succeeded because no exception was raised\n",
    "            return True\n",
    "        except:\n",
    "            # signature verification failed\n",
    "            return False\n",
    "        \n",
    "    \n",
    "    def verify_and_print(self, *args, **kwargs):\n",
    "        if self.verify(*args, **kwargs):\n",
    "            print(\"[ OK ] Signature is valid\")\n",
    "        else:\n",
    "            print(\"[ ERROR ] *** SIGNATURE VERIFICATION FAILED! ***\")\n",
    "\n",
    "\n",
    "    def asymmetric_encrypt(self, message, public_key=None, name=None):\n",
    "        \"\"\"\n",
    "        Encrypts the given data with the given public key or the public key of the given name.\n",
    "        Either the public key or the name must be given, but not both.\n",
    "\n",
    "        :param string|bytes message: The message to encrypt\n",
    "        :param public_key: The public key to use\n",
    "        :param name: The name of the recipient. Must have been imported before.\n",
    "        :return: The encrypted data\n",
    "        \"\"\"\n",
    "        assert public_key is not None or name is not None, \\\n",
    "            \"You must specify either the public key or the name of the recipient\"\n",
    "\n",
    "        if name is not None:\n",
    "            assert name in self.public_keys_directory, \\\n",
    "                \"The name of the recipient is not in the directory\"\n",
    "            public_key = self.public_keys_directory[name]\n",
    "\n",
    "        return public_key.encrypt(\n",
    "            message,\n",
    "            padding.OAEP(\n",
    "                mgf=padding.MGF1(algorithm=hashes.SHA512()),\n",
    "                algorithm=hashes.SHA512(),\n",
    "                label=None)\n",
    "        )\n",
    "\n",
    "    def asymmetric_decrypt(self, message):\n",
    "        \"\"\"\n",
    "        Decrypts the given data with the person's private key\n",
    "        :param message: The data to decrypt\n",
    "        :return: The decrypted data\n",
    "        \"\"\"\n",
    "        return self.key.decrypt(\n",
    "            message,\n",
    "            padding.OAEP(\n",
    "                mgf=padding.MGF1(algorithm=self.HASH_ALGORITHM),\n",
    "                algorithm=self.HASH_ALGORITHM,\n",
    "                label=None)\n",
    "        )\n",
    "\n",
    "    def __str__(self):\n",
    "        \"\"\"\n",
    "        Returns a string representation of the person with their name and public key\n",
    "        :return: The string representation\n",
    "        \"\"\"\n",
    "        return (self.name + \":\\n\" +\n",
    "                self.key.public_key().public_bytes(\n",
    "                    serialization.Encoding.PEM,\n",
    "                    serialization.PublicFormat.SubjectPublicKeyInfo).decode('utf-8')\n",
    "                )\n"
   ]
  },
  {
   "cell_type": "markdown",
   "id": "3e9fac49-5080-4aa4-aec7-fcaea6e1037d",
   "metadata": {
    "editable": true,
    "slideshow": {
     "slide_type": "slide"
    },
    "tags": []
   },
   "source": [
    "## Exemple"
   ]
  },
  {
   "cell_type": "markdown",
   "id": "9fa348743aeb746b",
   "metadata": {
    "collapsed": false,
    "editable": true,
    "jupyter": {
     "outputs_hidden": false
    },
    "slideshow": {
     "slide_type": "subslide"
    },
    "tags": []
   },
   "source": [
    "### RSA key generation and exchange"
   ]
  },
  {
   "cell_type": "markdown",
   "id": "4d0a1408-8999-40e7-9f05-d640daec11b9",
   "metadata": {
    "editable": true,
    "slideshow": {
     "slide_type": "subslide"
    },
    "tags": []
   },
   "source": [
    "First, we create Alice and Bob "
   ]
  },
  {
   "cell_type": "code",
   "execution_count": null,
   "id": "c9bbc6d6-1794-4b43-8d7c-f83a077a7ddc",
   "metadata": {
    "ExecuteTime": {
     "end_time": "2024-01-24T22:22:38.444895Z",
     "start_time": "2024-01-24T22:22:38.306020Z"
    },
    "editable": true,
    "slideshow": {
     "slide_type": "subslide"
    },
    "tags": []
   },
   "outputs": [],
   "source": [
    "alice = Person(\"alice\")\n",
    "bob = Person(\"bob\")"
   ]
  },
  {
   "cell_type": "markdown",
   "id": "8c8e77056a0a7065",
   "metadata": {
    "collapsed": false,
    "editable": true,
    "jupyter": {
     "outputs_hidden": false
    },
    "slideshow": {
     "slide_type": "subslide"
    },
    "tags": []
   },
   "source": [
    "Their RSA keys are generated automatically."
   ]
  },
  {
   "cell_type": "code",
   "execution_count": 9,
   "id": "ccf39bcfc0ac449d",
   "metadata": {
    "ExecuteTime": {
     "end_time": "2024-01-24T22:22:38.445825Z",
     "start_time": "2024-01-24T22:22:38.405743Z"
    },
    "collapsed": false,
    "editable": true,
    "jupyter": {
     "outputs_hidden": false
    },
    "slideshow": {
     "slide_type": "subslide"
    },
    "tags": []
   },
   "outputs": [
    {
     "name": "stdout",
     "output_type": "stream",
     "text": [
      "alice:\n",
      "-----BEGIN PUBLIC KEY-----\n",
      "MIIBIjANBgkqhkiG9w0BAQEFAAOCAQ8AMIIBCgKCAQEAscD5bBbiA58/eyVbXpN0\n",
      "KrIqs9T4yAPJHl7L9amjT9IFnoB8dWp0L+Acj3P0+Cu2lTnFs+i4iesNvE4jB4Yv\n",
      "aUDkdhq8Ia4KhQBFvaw/s5UFBGG84zsiC8qCU28C+pkDDte4R9aIessmxyQ9NBW2\n",
      "TEfGjAuIVtAebJ98MZ3S2Pdl0HtwGNIAdJVuJ8aRGkqD9EtzR0RpQ5jUIN0YM/fq\n",
      "EV+yOcIL4lzyh8ot9+MSMoUkvNk4K2b3yNci3yWKlG9OY+wcWhihwY53cC4pc1yA\n",
      "sEFHKBCQ5kmOTSCe6Jm2cyruIykKWk1lDWuFxBQrkyoeyOb0OoPVOc66QVEOiymp\n",
      "FwIDAQAB\n",
      "-----END PUBLIC KEY-----\n",
      "\n",
      "bob:\n",
      "-----BEGIN PUBLIC KEY-----\n",
      "MIIBIjANBgkqhkiG9w0BAQEFAAOCAQ8AMIIBCgKCAQEA7Y6pmPRrv64MZzuqlMOF\n",
      "ltadUw7eWBwqiPb5v+N4n4f/ilCT3oLqtjg5dr4SnFs4XFfSnALVs6+/VqeOvkwV\n",
      "GJCtSDt5uTgsRzGGxQDihe5t8vq+JI2gkZkasP27W6zEDo5Q4X3r+PWOf8h599F/\n",
      "vPgvW+mZij1kD/z5quLKb+r/ME5Ft04yOvX53yhI4inF57YqOlS+YAFmZoXR5sLt\n",
      "0zZMtCLXlpbAcgvsqlGXeh7lAGwv4pFu1zMVv/rXVhlmF67rj6DGAKKxAMrWawoc\n",
      "eaUuYf5HHeiLnv0nxRQ+CkNzgKtCLjJRRxb22fhyxXbpnuMN6AGVSuwrU4DQ5oD7\n",
      "cQIDAQAB\n",
      "-----END PUBLIC KEY-----\n",
      "\n"
     ]
    }
   ],
   "source": [
    "print(alice)\n",
    "print(bob)"
   ]
  },
  {
   "cell_type": "markdown",
   "id": "653cce35d9b4048e",
   "metadata": {
    "collapsed": false,
    "editable": true,
    "jupyter": {
     "outputs_hidden": false
    },
    "slideshow": {
     "slide_type": "subslide"
    },
    "tags": []
   },
   "source": [
    "So now, we can import their public keys in each other's directory."
   ]
  },
  {
   "cell_type": "code",
   "execution_count": 10,
   "id": "adafcb4f192b2f7d",
   "metadata": {
    "ExecuteTime": {
     "end_time": "2024-01-24T22:22:38.446632Z",
     "start_time": "2024-01-24T22:22:38.411049Z"
    },
    "collapsed": false,
    "editable": true,
    "jupyter": {
     "outputs_hidden": false
    },
    "slideshow": {
     "slide_type": "subslide"
    },
    "tags": []
   },
   "outputs": [],
   "source": [
    "alice_public_key = alice.get_public_key()\n",
    "bob_public_key = bob.get_public_key()\n",
    "\n",
    "alice.import_public_key(\"bob\", bob_public_key)\n",
    "bob.import_public_key(\"alice\", alice_public_key)"
   ]
  },
  {
   "cell_type": "markdown",
   "id": "badaa2509ec8603c",
   "metadata": {
    "collapsed": false,
    "editable": true,
    "jupyter": {
     "outputs_hidden": false
    },
    "slideshow": {
     "slide_type": "subslide"
    },
    "tags": []
   },
   "source": [
    "Alice now generates a new AES key that will be stored in her object."
   ]
  },
  {
   "cell_type": "code",
   "execution_count": 11,
   "id": "14b5a13dccc6161",
   "metadata": {
    "ExecuteTime": {
     "end_time": "2024-01-24T22:22:38.448313Z",
     "start_time": "2024-01-24T22:22:38.417916Z"
    },
    "collapsed": false,
    "editable": true,
    "jupyter": {
     "outputs_hidden": false
    },
    "slideshow": {
     "slide_type": "subslide"
    },
    "tags": []
   },
   "outputs": [],
   "source": [
    "alice.generate_new_aes_key()"
   ]
  },
  {
   "cell_type": "markdown",
   "id": "16f777d9e5b41197",
   "metadata": {
    "collapsed": false,
    "editable": true,
    "jupyter": {
     "outputs_hidden": false
    },
    "slideshow": {
     "slide_type": "subslide"
    },
    "tags": []
   },
   "source": [
    "She wants to send it to Bob, but she wants to make sure that Bob is the only one who can read it.\n",
    "Moreover, Bob must be sure that the message comes from Alice.\n",
    "\n",
    "She now has two options : \n",
    "- either she first signs the message and then encrypts it\n",
    "- or she first encrypts the message and then signs it\n",
    "\n",
    "Both options are valid . "
   ]
  },
  {
   "cell_type": "markdown",
   "id": "348450e26745e68e",
   "metadata": {
    "collapsed": false,
    "editable": true,
    "jupyter": {
     "outputs_hidden": false
    },
    "slideshow": {
     "slide_type": "slide"
    },
    "tags": []
   },
   "source": [
    "### Option 1 : sign then encrypt"
   ]
  },
  {
   "cell_type": "markdown",
   "id": "89d5384725c66f21",
   "metadata": {
    "collapsed": false,
    "editable": true,
    "jupyter": {
     "outputs_hidden": false
    },
    "slideshow": {
     "slide_type": "subslide"
    },
    "tags": []
   },
   "source": [
    "Alice first sign the message. To do so, she uses her private key."
   ]
  },
  {
   "cell_type": "code",
   "execution_count": 12,
   "id": "1345fc6d304cc572",
   "metadata": {
    "ExecuteTime": {
     "end_time": "2024-01-24T22:22:38.487088Z",
     "start_time": "2024-01-24T22:22:38.429978Z"
    },
    "collapsed": false,
    "editable": true,
    "jupyter": {
     "outputs_hidden": false
    },
    "slideshow": {
     "slide_type": "subslide"
    },
    "tags": []
   },
   "outputs": [],
   "source": [
    "aes_plain_key = alice.get_aes_key()\n",
    "aes_plain_key_signature = alice.sign(aes_plain_key)"
   ]
  },
  {
   "cell_type": "markdown",
   "id": "97778781867de3c4",
   "metadata": {
    "collapsed": false,
    "editable": true,
    "jupyter": {
     "outputs_hidden": false
    },
    "slideshow": {
     "slide_type": "subslide"
    },
    "tags": []
   },
   "source": [
    "Then, she encrypts the message with Bob's public key. Notice that we only \n",
    "need to provide the name of the recipient as we have already imported his public key."
   ]
  },
  {
   "cell_type": "code",
   "execution_count": 13,
   "id": "7cba2c77a24b8952",
   "metadata": {
    "ExecuteTime": {
     "end_time": "2024-01-24T22:22:38.487890Z",
     "start_time": "2024-01-24T22:22:38.436371Z"
    },
    "collapsed": false,
    "editable": true,
    "jupyter": {
     "outputs_hidden": false
    },
    "slideshow": {
     "slide_type": "subslide"
    },
    "tags": []
   },
   "outputs": [
    {
     "name": "stdout",
     "output_type": "stream",
     "text": [
      "Plain AES key : 34c7197890685cf656b08fd72a818b0c547dc5082f920fcd996326716dd0a6c9\n",
      "Encrypted AES key : be64b7c3315e21a61e9a24c5b422c34c666426ae9d1743aa63d3da793758df6515337c485daa8c43c4ddee52042373cb8d46cb1f8ba9a5f825f3a7757dc83393ec9f6bda620b3413aff714d055d3b02afd26b510be411b36c45654037c3a2eef9fec244441ac9006e8c2cf942cfa5ace7488b2f3d5bdfa7cdc1104f74350b636a5a67d4d2c33411138ff654e349cc8e5d2d20cf17c1819d69df7dcc262765367c95b05700978b8528f7405888a317ccf1f842ec6dce7b4abd6ed11c6ed49966d6cc6a4d445c878bf63f591f55b114df70f603f866102ed0b8f6288f04c05d305cf87a22320c2c48dc4109f1308816c4f8783e136126d1788c91375d3c2be7523\n"
     ]
    }
   ],
   "source": [
    "aes_encrypted_key = alice.asymmetric_encrypt(aes_plain_key, name=\"bob\")\n",
    "\n",
    "print(f\"Plain AES key : {aes_plain_key.hex()}\")\n",
    "print(f\"Encrypted AES key : {aes_encrypted_key.hex()}\")"
   ]
  },
  {
   "cell_type": "markdown",
   "id": "bfeeca1fb5d8eada",
   "metadata": {
    "collapsed": false,
    "editable": true,
    "jupyter": {
     "outputs_hidden": false
    },
    "slideshow": {
     "slide_type": "subslide"
    },
    "tags": []
   },
   "source": [
    "Now, Alice can send the encrypted AES key and the signature to Bob."
   ]
  },
  {
   "cell_type": "markdown",
   "id": "39399944ee6e366a",
   "metadata": {
    "collapsed": false,
    "editable": true,
    "jupyter": {
     "outputs_hidden": false
    },
    "slideshow": {
     "slide_type": "subslide"
    },
    "tags": []
   },
   "source": [
    "As Alice first signed the message and only then encrypted it, Bob must first decrypt the message and then verify the signature. "
   ]
  },
  {
   "cell_type": "code",
   "execution_count": 14,
   "id": "175fc162badb9d19",
   "metadata": {
    "ExecuteTime": {
     "end_time": "2024-01-24T22:22:38.504115Z",
     "start_time": "2024-01-24T22:22:38.446583Z"
    },
    "collapsed": false,
    "editable": true,
    "jupyter": {
     "outputs_hidden": false
    },
    "slideshow": {
     "slide_type": "subslide"
    },
    "tags": []
   },
   "outputs": [
    {
     "name": "stdout",
     "output_type": "stream",
     "text": [
      "34c7197890685cf656b08fd72a818b0c547dc5082f920fcd996326716dd0a6c9\n"
     ]
    }
   ],
   "source": [
    "aes_decrypted_key = bob.asymmetric_decrypt(aes_encrypted_key)\n",
    "\n",
    "print(aes_decrypted_key.hex())"
   ]
  },
  {
   "cell_type": "markdown",
   "id": "a0f587034be05571",
   "metadata": {
    "collapsed": false,
    "editable": true,
    "jupyter": {
     "outputs_hidden": false
    },
    "slideshow": {
     "slide_type": "subslide"
    },
    "tags": []
   },
   "source": [
    "As we see, the decrypted AES key is the same as the one Alice generated.\n",
    "\n",
    "Now Bob can verify the signature."
   ]
  },
  {
   "cell_type": "code",
   "execution_count": 15,
   "id": "25a0ca4fb0d65ca2",
   "metadata": {
    "ExecuteTime": {
     "end_time": "2024-01-24T22:22:38.517653Z",
     "start_time": "2024-01-24T22:22:38.492005Z"
    },
    "collapsed": false,
    "editable": true,
    "jupyter": {
     "outputs_hidden": false
    },
    "slideshow": {
     "slide_type": "subslide"
    },
    "tags": []
   },
   "outputs": [
    {
     "name": "stdout",
     "output_type": "stream",
     "text": [
      "[ OK ] Signature is valid\n"
     ]
    }
   ],
   "source": [
    "\n",
    "bob.verify_and_print(signature=aes_plain_key_signature, message=aes_decrypted_key, name='alice')"
   ]
  },
  {
   "cell_type": "markdown",
   "id": "fe8d27180d2d162f",
   "metadata": {
    "collapsed": false,
    "editable": true,
    "jupyter": {
     "outputs_hidden": false
    },
    "slideshow": {
     "slide_type": "subslide"
    },
    "tags": []
   },
   "source": [
    "Let's assume that Eve intercepted the message. She cannot alter it because \n",
    "it is encrypted. Decryption will fail : "
   ]
  },
  {
   "cell_type": "code",
   "execution_count": 16,
   "id": "6dcfeaf1ae2b027e",
   "metadata": {
    "ExecuteTime": {
     "end_time": "2024-01-24T22:22:38.609925Z",
     "start_time": "2024-01-24T22:22:38.510693Z"
    },
    "collapsed": false,
    "editable": true,
    "jupyter": {
     "outputs_hidden": false
    },
    "slideshow": {
     "slide_type": "subslide"
    },
    "tags": []
   },
   "outputs": [],
   "source": [
    "eve = Person(\"eve\")\n",
    "eve.import_public_key(\"alice\", alice_public_key)\n",
    "eve.import_public_key(\"bob\", bob_public_key)"
   ]
  },
  {
   "cell_type": "code",
   "execution_count": 17,
   "id": "39cb739f55c29942",
   "metadata": {
    "ExecuteTime": {
     "end_time": "2024-01-24T22:22:38.623582Z",
     "start_time": "2024-01-24T22:22:38.609992Z"
    },
    "collapsed": false,
    "editable": true,
    "jupyter": {
     "outputs_hidden": false
    },
    "slideshow": {
     "slide_type": "subslide"
    },
    "tags": []
   },
   "outputs": [],
   "source": [
    "aes_encrypted_key_altered = aes_encrypted_key[:-1] + b'\\x00'"
   ]
  },
  {
   "cell_type": "code",
   "execution_count": 18,
   "id": "83a1504596654ee3",
   "metadata": {
    "ExecuteTime": {
     "end_time": "2024-01-24T22:22:38.684665Z",
     "start_time": "2024-01-24T22:22:38.612016Z"
    },
    "collapsed": false,
    "editable": true,
    "jupyter": {
     "outputs_hidden": false
    },
    "slideshow": {
     "slide_type": "subslide"
    },
    "tags": []
   },
   "outputs": [
    {
     "ename": "ValueError",
     "evalue": "Encryption/decryption failed.",
     "output_type": "error",
     "traceback": [
      "\u001b[0;31m---------------------------------------------------------------------------\u001b[0m",
      "\u001b[0;31mValueError\u001b[0m                                Traceback (most recent call last)",
      "Cell \u001b[0;32mIn[18], line 1\u001b[0m\n\u001b[0;32m----> 1\u001b[0m aes_decrypted_key_altered \u001b[38;5;241m=\u001b[39m bob\u001b[38;5;241m.\u001b[39masymmetric_decrypt(aes_encrypted_key_altered)\n",
      "Cell \u001b[0;32mIn[8], line 238\u001b[0m, in \u001b[0;36mPerson.asymmetric_decrypt\u001b[0;34m(self, message)\u001b[0m\n\u001b[1;32m    232\u001b[0m \u001b[38;5;28;01mdef\u001b[39;00m \u001b[38;5;21masymmetric_decrypt\u001b[39m(\u001b[38;5;28mself\u001b[39m, message):\n\u001b[1;32m    233\u001b[0m \u001b[38;5;250m    \u001b[39m\u001b[38;5;124;03m\"\"\"\u001b[39;00m\n\u001b[1;32m    234\u001b[0m \u001b[38;5;124;03m    Decrypts the given data with the person's private key\u001b[39;00m\n\u001b[1;32m    235\u001b[0m \u001b[38;5;124;03m    :param message: The data to decrypt\u001b[39;00m\n\u001b[1;32m    236\u001b[0m \u001b[38;5;124;03m    :return: The decrypted data\u001b[39;00m\n\u001b[1;32m    237\u001b[0m \u001b[38;5;124;03m    \"\"\"\u001b[39;00m\n\u001b[0;32m--> 238\u001b[0m     \u001b[38;5;28;01mreturn\u001b[39;00m \u001b[38;5;28mself\u001b[39m\u001b[38;5;241m.\u001b[39mkey\u001b[38;5;241m.\u001b[39mdecrypt(\n\u001b[1;32m    239\u001b[0m         message,\n\u001b[1;32m    240\u001b[0m         padding\u001b[38;5;241m.\u001b[39mOAEP(\n\u001b[1;32m    241\u001b[0m             mgf\u001b[38;5;241m=\u001b[39mpadding\u001b[38;5;241m.\u001b[39mMGF1(algorithm\u001b[38;5;241m=\u001b[39m\u001b[38;5;28mself\u001b[39m\u001b[38;5;241m.\u001b[39mHASH_ALGORITHM),\n\u001b[1;32m    242\u001b[0m             algorithm\u001b[38;5;241m=\u001b[39m\u001b[38;5;28mself\u001b[39m\u001b[38;5;241m.\u001b[39mHASH_ALGORITHM,\n\u001b[1;32m    243\u001b[0m             label\u001b[38;5;241m=\u001b[39m\u001b[38;5;28;01mNone\u001b[39;00m)\n\u001b[1;32m    244\u001b[0m     )\n",
      "File \u001b[0;32m~/anaconda3/envs/openssl/lib/python3.11/site-packages/cryptography/hazmat/backends/openssl/rsa.py:446\u001b[0m, in \u001b[0;36m_RSAPrivateKey.decrypt\u001b[0;34m(self, ciphertext, padding)\u001b[0m\n\u001b[1;32m    443\u001b[0m \u001b[38;5;28;01mif\u001b[39;00m key_size_bytes \u001b[38;5;241m!=\u001b[39m \u001b[38;5;28mlen\u001b[39m(ciphertext):\n\u001b[1;32m    444\u001b[0m     \u001b[38;5;28;01mraise\u001b[39;00m \u001b[38;5;167;01mValueError\u001b[39;00m(\u001b[38;5;124m\"\u001b[39m\u001b[38;5;124mCiphertext length must be equal to key size.\u001b[39m\u001b[38;5;124m\"\u001b[39m)\n\u001b[0;32m--> 446\u001b[0m \u001b[38;5;28;01mreturn\u001b[39;00m _enc_dec_rsa(\u001b[38;5;28mself\u001b[39m\u001b[38;5;241m.\u001b[39m_backend, \u001b[38;5;28mself\u001b[39m, ciphertext, padding)\n",
      "File \u001b[0;32m~/anaconda3/envs/openssl/lib/python3.11/site-packages/cryptography/hazmat/backends/openssl/rsa.py:97\u001b[0m, in \u001b[0;36m_enc_dec_rsa\u001b[0;34m(backend, key, data, padding)\u001b[0m\n\u001b[1;32m     91\u001b[0m \u001b[38;5;28;01melse\u001b[39;00m:\n\u001b[1;32m     92\u001b[0m     \u001b[38;5;28;01mraise\u001b[39;00m UnsupportedAlgorithm(\n\u001b[1;32m     93\u001b[0m         \u001b[38;5;124mf\u001b[39m\u001b[38;5;124m\"\u001b[39m\u001b[38;5;132;01m{\u001b[39;00mpadding\u001b[38;5;241m.\u001b[39mname\u001b[38;5;132;01m}\u001b[39;00m\u001b[38;5;124m is not supported by this backend.\u001b[39m\u001b[38;5;124m\"\u001b[39m,\n\u001b[1;32m     94\u001b[0m         _Reasons\u001b[38;5;241m.\u001b[39mUNSUPPORTED_PADDING,\n\u001b[1;32m     95\u001b[0m     )\n\u001b[0;32m---> 97\u001b[0m \u001b[38;5;28;01mreturn\u001b[39;00m _enc_dec_rsa_pkey_ctx(backend, key, data, padding_enum, padding)\n",
      "File \u001b[0;32m~/anaconda3/envs/openssl/lib/python3.11/site-packages/cryptography/hazmat/backends/openssl/rsa.py:163\u001b[0m, in \u001b[0;36m_enc_dec_rsa_pkey_ctx\u001b[0;34m(backend, key, data, padding_enum, padding)\u001b[0m\n\u001b[1;32m    161\u001b[0m backend\u001b[38;5;241m.\u001b[39m_lib\u001b[38;5;241m.\u001b[39mERR_clear_error()\n\u001b[1;32m    162\u001b[0m \u001b[38;5;28;01mif\u001b[39;00m res \u001b[38;5;241m<\u001b[39m\u001b[38;5;241m=\u001b[39m \u001b[38;5;241m0\u001b[39m:\n\u001b[0;32m--> 163\u001b[0m     \u001b[38;5;28;01mraise\u001b[39;00m \u001b[38;5;167;01mValueError\u001b[39;00m(\u001b[38;5;124m\"\u001b[39m\u001b[38;5;124mEncryption/decryption failed.\u001b[39m\u001b[38;5;124m\"\u001b[39m)\n\u001b[1;32m    164\u001b[0m \u001b[38;5;28;01mreturn\u001b[39;00m resbuf\n",
      "\u001b[0;31mValueError\u001b[0m: Encryption/decryption failed."
     ]
    }
   ],
   "source": [
    "aes_decrypted_key_altered = bob.asymmetric_decrypt(aes_encrypted_key_altered)"
   ]
  },
  {
   "cell_type": "markdown",
   "id": "dcf54d13a433fd6f",
   "metadata": {
    "collapsed": false,
    "editable": true,
    "jupyter": {
     "outputs_hidden": false
    },
    "slideshow": {
     "slide_type": "subslide"
    },
    "tags": []
   },
   "source": [
    "But what she could do is to replace the encrypted AES key with another one."
   ]
  },
  {
   "cell_type": "code",
   "execution_count": 19,
   "id": "45dc81e7fda517d2",
   "metadata": {
    "ExecuteTime": {
     "start_time": "2024-01-24T22:22:38.673689Z"
    },
    "collapsed": false,
    "editable": true,
    "jupyter": {
     "outputs_hidden": false
    },
    "slideshow": {
     "slide_type": "subslide"
    },
    "tags": []
   },
   "outputs": [],
   "source": [
    "eve.generate_new_aes_key()\n",
    "aes_plain_key_signature_eve = eve.sign(eve.get_aes_key())\n",
    "aes_encrypted_key_eve = eve.asymmetric_encrypt(eve.get_aes_key(), name=\"bob\")"
   ]
  },
  {
   "cell_type": "markdown",
   "id": "8dee6bdbda4d1f97",
   "metadata": {
    "collapsed": false,
    "editable": true,
    "jupyter": {
     "outputs_hidden": false
    },
    "slideshow": {
     "slide_type": "subslide"
    },
    "tags": []
   },
   "source": [
    "Now Bob received the altered data given by Eve, even though he doesn't know it and\n",
    "thinks that it comes from Alice.\n",
    "\n",
    "First, he decrypts the message."
   ]
  },
  {
   "cell_type": "code",
   "execution_count": 20,
   "id": "8695273a934bb6f8",
   "metadata": {
    "ExecuteTime": {
     "start_time": "2024-01-24T22:22:38.674749Z"
    },
    "collapsed": false,
    "editable": true,
    "jupyter": {
     "outputs_hidden": false
    },
    "slideshow": {
     "slide_type": "subslide"
    },
    "tags": []
   },
   "outputs": [
    {
     "name": "stdout",
     "output_type": "stream",
     "text": [
      "2aeb690587f68e7d415d437a8d3a4de08d58a13be8c736637aae5e2a779ef799\n"
     ]
    }
   ],
   "source": [
    "aes_decrypted_key_eve = bob.asymmetric_decrypt(aes_encrypted_key_eve)\n",
    "\n",
    "print(aes_decrypted_key_eve.hex())"
   ]
  },
  {
   "cell_type": "markdown",
   "id": "ca180cb828fb0f00",
   "metadata": {
    "collapsed": false,
    "editable": true,
    "jupyter": {
     "outputs_hidden": false
    },
    "slideshow": {
     "slide_type": "subslide"
    },
    "tags": []
   },
   "source": [
    "We can see that the decrypted AES key is not the same as the one Alice generated \n",
    "but Bob has no way to know that. \n",
    "\n",
    "But now, Bob can verify the signature **with Alice's public key**."
   ]
  },
  {
   "cell_type": "code",
   "execution_count": 21,
   "id": "f5bbba96f6ce0ac0",
   "metadata": {
    "ExecuteTime": {
     "start_time": "2024-01-24T22:22:38.676077Z"
    },
    "collapsed": false,
    "editable": true,
    "jupyter": {
     "outputs_hidden": false
    },
    "slideshow": {
     "slide_type": "subslide"
    },
    "tags": []
   },
   "outputs": [
    {
     "name": "stdout",
     "output_type": "stream",
     "text": [
      "[ ERROR ] *** SIGNATURE VERIFICATION FAILED! ***\n"
     ]
    }
   ],
   "source": [
    "bob.verify_and_print(signature=aes_plain_key_signature_eve, message=aes_decrypted_key_eve, name='alice')"
   ]
  },
  {
   "cell_type": "markdown",
   "id": "afe5bec62e0a06cd",
   "metadata": {
    "collapsed": false,
    "editable": true,
    "jupyter": {
     "outputs_hidden": false
    },
    "slideshow": {
     "slide_type": "subslide"
    },
    "tags": []
   },
   "source": [
    "As we can see, the signature is invalid! Bob knows that the message has been altered."
   ]
  },
  {
   "cell_type": "markdown",
   "id": "1decc39fc60666e5",
   "metadata": {
    "collapsed": false,
    "editable": true,
    "jupyter": {
     "outputs_hidden": false
    },
    "slideshow": {
     "slide_type": "slide"
    },
    "tags": []
   },
   "source": [
    "### Option 2 : encrypt then sign"
   ]
  },
  {
   "cell_type": "code",
   "execution_count": 22,
   "id": "584e8af5f3f29f00",
   "metadata": {
    "ExecuteTime": {
     "start_time": "2024-01-24T22:22:38.677157Z"
    },
    "collapsed": false,
    "editable": true,
    "jupyter": {
     "outputs_hidden": false
    },
    "slideshow": {
     "slide_type": "subslide"
    },
    "tags": []
   },
   "outputs": [],
   "source": [
    "aes_plain_key = alice.get_aes_key()\n",
    "aes_encrypted_key = alice.asymmetric_encrypt(aes_plain_key, name=\"bob\")\n",
    "aes_encrypted_key_signature = alice.sign(aes_encrypted_key)"
   ]
  },
  {
   "cell_type": "code",
   "execution_count": 23,
   "id": "b0126e1c07132fb3",
   "metadata": {
    "ExecuteTime": {
     "start_time": "2024-01-24T22:22:38.678047Z"
    },
    "collapsed": false,
    "editable": true,
    "jupyter": {
     "outputs_hidden": false
    },
    "slideshow": {
     "slide_type": "subslide"
    },
    "tags": []
   },
   "outputs": [
    {
     "name": "stdout",
     "output_type": "stream",
     "text": [
      "[ OK ] Signature is valid\n"
     ]
    }
   ],
   "source": [
    "bob.verify_and_print(signature=aes_encrypted_key_signature, message=aes_encrypted_key, name='alice')"
   ]
  },
  {
   "cell_type": "code",
   "execution_count": 24,
   "id": "2ef805aea3fdc7e3",
   "metadata": {
    "ExecuteTime": {
     "start_time": "2024-01-24T22:22:38.679155Z"
    },
    "collapsed": false,
    "editable": true,
    "jupyter": {
     "outputs_hidden": false
    },
    "slideshow": {
     "slide_type": "subslide"
    },
    "tags": []
   },
   "outputs": [
    {
     "name": "stdout",
     "output_type": "stream",
     "text": [
      "34c7197890685cf656b08fd72a818b0c547dc5082f920fcd996326716dd0a6c9\n"
     ]
    }
   ],
   "source": [
    "aes_decrypted_key = bob.asymmetric_decrypt(aes_encrypted_key)\n",
    "print(aes_decrypted_key.hex())"
   ]
  },
  {
   "cell_type": "markdown",
   "id": "2e49bf29bb08364f",
   "metadata": {
    "collapsed": false,
    "editable": true,
    "jupyter": {
     "outputs_hidden": false
    },
    "slideshow": {
     "slide_type": "subslide"
    },
    "tags": []
   },
   "source": [
    "Bob can now safely import the AES key in his object. From now on \n",
    "he can use it to encrypt and decrypt messages with Alice (and no one else)."
   ]
  },
  {
   "cell_type": "code",
   "execution_count": 25,
   "id": "d703bf5758e224e3",
   "metadata": {
    "ExecuteTime": {
     "start_time": "2024-01-24T22:22:38.679727Z"
    },
    "collapsed": false,
    "editable": true,
    "jupyter": {
     "outputs_hidden": false
    },
    "slideshow": {
     "slide_type": "subslide"
    },
    "tags": []
   },
   "outputs": [],
   "source": [
    "bob.import_aes_key(aes_decrypted_key)"
   ]
  },
  {
   "cell_type": "markdown",
   "id": "98df06160fdb41b5",
   "metadata": {
    "collapsed": false,
    "editable": true,
    "jupyter": {
     "outputs_hidden": false
    },
    "slideshow": {
     "slide_type": "subslide"
    },
    "tags": []
   },
   "source": [
    "Now, let's assume that Eve intercepted the message. She could alter it by adding \n",
    "one byte at the end of the encrypted AES key."
   ]
  },
  {
   "cell_type": "code",
   "execution_count": 26,
   "id": "84ef0db719111bc2",
   "metadata": {
    "ExecuteTime": {
     "start_time": "2024-01-24T22:22:38.680460Z"
    },
    "collapsed": false,
    "editable": true,
    "jupyter": {
     "outputs_hidden": false
    },
    "slideshow": {
     "slide_type": "subslide"
    },
    "tags": []
   },
   "outputs": [],
   "source": [
    "aes_encrypted_key_altered = aes_encrypted_key + b'\\x00'"
   ]
  },
  {
   "cell_type": "markdown",
   "id": "95e52f898e94255c",
   "metadata": {
    "collapsed": false,
    "editable": true,
    "jupyter": {
     "outputs_hidden": false
    },
    "slideshow": {
     "slide_type": "subslide"
    },
    "tags": []
   },
   "source": [
    "Before decrypting the message, Bob must verify the signature."
   ]
  },
  {
   "cell_type": "code",
   "execution_count": 27,
   "id": "1424369cc25f0ab",
   "metadata": {
    "ExecuteTime": {
     "start_time": "2024-01-24T22:22:38.681172Z"
    },
    "collapsed": false,
    "editable": true,
    "jupyter": {
     "outputs_hidden": false
    },
    "slideshow": {
     "slide_type": "subslide"
    },
    "tags": []
   },
   "outputs": [
    {
     "name": "stdout",
     "output_type": "stream",
     "text": [
      "[ ERROR ] *** SIGNATURE VERIFICATION FAILED! ***\n"
     ]
    }
   ],
   "source": [
    "bob.verify_and_print(signature=aes_encrypted_key_signature, message=aes_encrypted_key_altered, name='alice')"
   ]
  },
  {
   "cell_type": "markdown",
   "id": "480c8139940baa1d",
   "metadata": {
    "collapsed": false,
    "editable": true,
    "jupyter": {
     "outputs_hidden": false
    },
    "slideshow": {
     "slide_type": "subslide"
    },
    "tags": []
   },
   "source": [
    "As we can see, the signature is invalid. Bob knows that the message has been altered and \n",
    "does not have to decrypt it."
   ]
  },
  {
   "cell_type": "markdown",
   "id": "dcd07f2f08b3fa39",
   "metadata": {
    "collapsed": false,
    "editable": true,
    "jupyter": {
     "outputs_hidden": false
    },
    "slideshow": {
     "slide_type": "slide"
    },
    "tags": []
   },
   "source": [
    "## Using the AES key to exchange messages"
   ]
  },
  {
   "cell_type": "markdown",
   "id": "172d89bf8dd57e42",
   "metadata": {
    "collapsed": false,
    "editable": true,
    "jupyter": {
     "outputs_hidden": false
    },
    "slideshow": {
     "slide_type": "subslide"
    },
    "tags": []
   },
   "source": [
    "Let's assume Bob wants to send a message to Alice. He first encrypts it with the AES key\n",
    "he just received and imported. "
   ]
  },
  {
   "cell_type": "code",
   "execution_count": 28,
   "id": "94be5fadbf872d0b",
   "metadata": {
    "ExecuteTime": {
     "start_time": "2024-01-24T22:22:38.681873Z"
    },
    "collapsed": false,
    "editable": true,
    "jupyter": {
     "outputs_hidden": false
    },
    "slideshow": {
     "slide_type": "subslide"
    },
    "tags": []
   },
   "outputs": [
    {
     "name": "stdout",
     "output_type": "stream",
     "text": [
      "Encrypted message : 05c8d9f4156092fa8621babdd98062db0b16f13e8bf7bad6e7a2caf8c7fd3db24fd0ba98731b92e15305e07798dfb6\n",
      "Initialization vector : 077e1a71e6d0b8a8f7de69b6a5dd5f9e\n"
     ]
    }
   ],
   "source": [
    "message = \"Hello Alice! This is Bob speaking. How are you?\"\n",
    "encrypted_message, iv = bob.aes_encrypt(message)\n",
    "\n",
    "print(f\"Encrypted message : {encrypted_message.hex()}\")\n",
    "print(f\"Initialization vector : {iv.hex()}\")"
   ]
  },
  {
   "cell_type": "markdown",
   "id": "e0a90938f7a3666f",
   "metadata": {
    "collapsed": false,
    "editable": true,
    "jupyter": {
     "outputs_hidden": false
    },
    "slideshow": {
     "slide_type": "subslide"
    },
    "tags": []
   },
   "source": [
    "For each message, we generate a random initialization vector \n",
    "that will be used to encrypt and decrypt the message. It \n",
    "does not need to be secret and can be sent in clear."
   ]
  },
  {
   "cell_type": "markdown",
   "id": "38cb58d88d21a671",
   "metadata": {
    "collapsed": false,
    "editable": true,
    "jupyter": {
     "outputs_hidden": false
    },
    "slideshow": {
     "slide_type": "subslide"
    },
    "tags": []
   },
   "source": [
    "Alice can now decrypt the message"
   ]
  },
  {
   "cell_type": "code",
   "execution_count": 29,
   "id": "b4d49ac3d96d096",
   "metadata": {
    "ExecuteTime": {
     "end_time": "2024-01-24T22:22:38.773842Z",
     "start_time": "2024-01-24T22:22:38.686495Z"
    },
    "collapsed": false,
    "editable": true,
    "jupyter": {
     "outputs_hidden": false
    },
    "slideshow": {
     "slide_type": "subslide"
    },
    "tags": []
   },
   "outputs": [
    {
     "name": "stdout",
     "output_type": "stream",
     "text": [
      "Hello Alice! This is Bob speaking. How are you?\n"
     ]
    }
   ],
   "source": [
    "decrypted_message = alice.aes_decrypt(encrypted_message, iv)\n",
    "print(decrypted_message.decode('utf-8'))"
   ]
  },
  {
   "cell_type": "markdown",
   "id": "a2147c1a0078bf31",
   "metadata": {
    "collapsed": false,
    "editable": true,
    "jupyter": {
     "outputs_hidden": false
    },
    "slideshow": {
     "slide_type": "subslide"
    },
    "tags": []
   },
   "source": [
    "As we can see, the message has been decrypted correctly. Alice \n",
    "can now answer to Bob with the same AES key.\n",
    "However, the initialization vector must be different for each message."
   ]
  },
  {
   "cell_type": "code",
   "execution_count": 30,
   "id": "4f9c6e9fbc54f4f8",
   "metadata": {
    "ExecuteTime": {
     "end_time": "2024-01-24T22:22:38.787567Z",
     "start_time": "2024-01-24T22:22:38.745360Z"
    },
    "collapsed": false,
    "editable": true,
    "jupyter": {
     "outputs_hidden": false
    },
    "slideshow": {
     "slide_type": "subslide"
    },
    "tags": []
   },
   "outputs": [
    {
     "name": "stdout",
     "output_type": "stream",
     "text": [
      "Encrypted message : 9cb93512f36653cde218f5c27cae2ab93841b055f450c26b68c210f712b66e8d23f4feea7ca3de6c2d0c8818\n",
      "Initialization vector : e0ce72d9cfb98f670ae05cfa84ebae03\n"
     ]
    }
   ],
   "source": [
    "message = \"Hello Bob! I'm fine, thanks. What about you?\"\n",
    "encrypted_message, iv = alice.aes_encrypt(message)\n",
    "print(f\"Encrypted message : {encrypted_message.hex()}\")\n",
    "print(f\"Initialization vector : {iv.hex()}\")\n"
   ]
  },
  {
   "cell_type": "code",
   "execution_count": null,
   "id": "e180a61c9953cfa9",
   "metadata": {
    "ExecuteTime": {
     "end_time": "2024-01-24T22:22:38.812593Z",
     "start_time": "2024-01-24T22:22:38.795874Z"
    },
    "collapsed": false,
    "editable": true,
    "jupyter": {
     "outputs_hidden": false
    },
    "slideshow": {
     "slide_type": "subslide"
    },
    "tags": []
   },
   "outputs": [],
   "source": [
    "decrypted_message = bob.aes_decrypt(encrypted_message, iv)\n",
    "print(decrypted_message.decode('utf-8'))"
   ]
  },
  {
   "cell_type": "markdown",
   "id": "a6f086a558ef61bd",
   "metadata": {
    "collapsed": false,
    "jupyter": {
     "outputs_hidden": false
    }
   },
   "source": [
    "## ChatGPT solution"
   ]
  },
  {
   "cell_type": "code",
   "execution_count": null,
   "id": "c7d27eb995e8a19f",
   "metadata": {
    "ExecuteTime": {
     "end_time": "2024-01-24T22:22:38.978550Z",
     "start_time": "2024-01-24T22:22:38.806650Z"
    },
    "collapsed": false,
    "jupyter": {
     "outputs_hidden": false
    }
   },
   "outputs": [],
   "source": [
    "from cryptography.hazmat.backends import default_backend\n",
    "from cryptography.hazmat.primitives import serialization\n",
    "from cryptography.hazmat.primitives.asymmetric import rsa, padding\n",
    "from cryptography.hazmat.primitives import hashes\n",
    "from Crypto.Cipher import AES\n",
    "from Crypto.Random import get_random_bytes\n",
    "\n",
    "def generate_rsa_keypair():\n",
    "    \"\"\" Génère une paire de clés RSA \"\"\"\n",
    "    private_key = rsa.generate_private_key(\n",
    "        public_exponent=65537,\n",
    "        key_size=2048,\n",
    "        backend=default_backend()\n",
    "    )\n",
    "    return private_key\n",
    "\n",
    "def serialize_public_key(public_key):\n",
    "    \"\"\" Sérialise la clé publique pour un transport sûr \"\"\"\n",
    "    pem = public_key.public_bytes(\n",
    "        encoding=serialization.Encoding.PEM,\n",
    "        format=serialization.PublicFormat.SubjectPublicKeyInfo\n",
    "    )\n",
    "    return pem\n",
    "\n",
    "def encrypt_rsa(public_key, data):\n",
    "    \"\"\" Chiffre des données avec la clé publique RSA \"\"\"\n",
    "    return public_key.encrypt(\n",
    "        data,\n",
    "        padding.OAEP(\n",
    "            mgf=padding.MGF1(algorithm=hashes.SHA512()),\n",
    "            algorithm=hashes.SHA512(),\n",
    "            label=None\n",
    "        )\n",
    "    )\n",
    "\n",
    "def decrypt_rsa(private_key, data):\n",
    "    \"\"\" Déchiffre des données avec la clé privée RSA \"\"\"\n",
    "    return private_key.decrypt(\n",
    "        data,\n",
    "        padding.OAEP(\n",
    "            mgf=padding.MGF1(algorithm=hashes.SHA512()),\n",
    "            algorithm=hashes.SHA512(),\n",
    "            label=None\n",
    "        )\n",
    "    )\n",
    "\n",
    "def sign_data(private_key, data):\n",
    "    \"\"\" Signe des données avec une clé privée RSA \"\"\"\n",
    "    return private_key.sign(\n",
    "        data,\n",
    "        padding.PSS(\n",
    "            mgf=padding.MGF1(hashes.SHA512()),\n",
    "            salt_length=padding.PSS.MAX_LENGTH\n",
    "        ),\n",
    "        hashes.SHA512()\n",
    "    )\n",
    "\n",
    "def verify_signature(public_key, signature, data):\n",
    "    \"\"\" Vérifie la signature avec une clé publique RSA \"\"\"\n",
    "    try:\n",
    "        public_key.verify(\n",
    "            signature,\n",
    "            data,\n",
    "            padding.PSS(\n",
    "                mgf=padding.MGF1(hashes.SHA512()),\n",
    "                salt_length=padding.PSS.MAX_LENGTH\n",
    "            ),\n",
    "            hashes.SHA512()\n",
    "        )\n",
    "        return True\n",
    "    except Exception:\n",
    "        return False\n",
    "\n",
    "def encrypt_aes(key, data):\n",
    "    \"\"\" Chiffre des données avec AES en mode OFB \"\"\"\n",
    "    cipher = AES.new(key, AES.MODE_OFB)\n",
    "    iv = cipher.iv\n",
    "    ciphertext = cipher.encrypt(data)\n",
    "    return iv, ciphertext\n",
    "\n",
    "def decrypt_aes(key, iv, data):\n",
    "    \"\"\" Déchiffre des données avec AES en mode OFB \"\"\"\n",
    "    cipher = AES.new(key, AES.MODE_OFB, iv=iv)\n",
    "    return cipher.decrypt(data)\n",
    "\n",
    "\n",
    "# Génération des clés RSA pour Alice et Bob\n",
    "alice_keypair = generate_rsa_keypair()\n",
    "bob_keypair = generate_rsa_keypair()\n",
    "print(\"Clés RSA générées pour Alice et Bob.\")\n",
    "\n",
    "# Alice génère une clé AES pour chiffrer les messages\n",
    "aes_key = get_random_bytes(16)  # Clé AES 128 bits\n",
    "print(\"Clé AES générée par Alice.\")\n",
    "\n",
    "# Alice envoie la clé AES à Bob, chiffrée avec la clé publique RSA de Bob\n",
    "encrypted_aes_key = encrypt_rsa(bob_keypair.public_key(), aes_key)\n",
    "print(\"Alice a chiffré et envoyé la clé AES à Bob.\")\n",
    "\n",
    "# Bob déchiffre la clé AES avec sa clé privée RSA\n",
    "decrypted_aes_key = decrypt_rsa(bob_keypair, encrypted_aes_key)\n",
    "print(\"Bob a déchiffré la clé AES.\")\n",
    "\n",
    "# Alice envoie un message à Bob\n",
    "message = b\"Hello Bob!\"\n",
    "iv, encrypted_message = encrypt_aes(aes_key, message)\n",
    "print(\"Alice a chiffré et envoyé le message à Bob.\")\n",
    "\n",
    "# Bob déchiffre le message\n",
    "decrypted_message = decrypt_aes(decrypted_aes_key, iv, encrypted_message)\n",
    "print(\"Bob a déchiffré le message:\", decrypted_message)\n",
    "\n",
    "# Alice signe le message\n",
    "signature = sign_data(alice_keypair, message)\n",
    "print(\"Alice a signé le message.\")\n",
    "\n",
    "# Bob vérifie la signature d'Alice\n",
    "verification_result = verify_signature(alice_keypair.public_key(), signature, message)\n",
    "print(\"Bob a vérifié la signature d'Alice. Résultat de la vérification:\", verification_result)\n",
    "\n"
   ]
  },
  {
   "cell_type": "code",
   "execution_count": null,
   "id": "38bf41c9199b3c0a",
   "metadata": {
    "ExecuteTime": {
     "end_time": "2024-01-24T22:22:38.980500Z",
     "start_time": "2024-01-24T22:22:38.979004Z"
    },
    "collapsed": false,
    "jupyter": {
     "outputs_hidden": false
    }
   },
   "outputs": [],
   "source": []
  }
 ],
 "metadata": {
  "kernelspec": {
   "display_name": "Python 3 (ipykernel)",
   "language": "python",
   "name": "python3"
  },
  "language_info": {
   "codemirror_mode": {
    "name": "ipython",
    "version": 3
   },
   "file_extension": ".py",
   "mimetype": "text/x-python",
   "name": "python",
   "nbconvert_exporter": "python",
   "pygments_lexer": "ipython3",
   "version": "3.11.7"
  }
 },
 "nbformat": 4,
 "nbformat_minor": 5
}
